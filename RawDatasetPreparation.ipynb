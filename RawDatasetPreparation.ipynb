{
  "cells": [
    {
      "cell_type": "code",
      "execution_count": null,
      "metadata": {
        "cellId": "1xjmbbxbrexkfy85dwq3",
        "id": "hci6eFM_vvT2"
      },
      "outputs": [],
      "source": [
        "\n",
        "import zipfile\n",
        "import os\n",
        "import csv\n",
        "import pandas as pd\n",
        "\n"
      ]
    },
    {
      "cell_type": "code",
      "execution_count": null,
      "metadata": {
        "cellId": "szp8zlnq913bi96peucc7",
        "id": "zvld5OGB6LOQ"
      },
      "outputs": [],
      "source": [
        "zip_file1 = './data/ga_sessions.zip' #zipped for faster upload/download to working cloud storages\n",
        "z1 = zipfile.ZipFile(zip_file1, 'r')\n",
        "z1.extractall()"
      ]
    },
    {
      "cell_type": "code",
      "execution_count": null,
      "metadata": {
        "cellId": "uqsfquchdplglsypk4t",
        "id": "ebgd533F6LOR"
      },
      "outputs": [],
      "source": [
        "df_hits = pd.read_csv('ga_hits.csv').drop(['hit_time', 'event_value', 'hit_page_path', 'hit_type', 'hit_referer', 'event_label'], axis=1)\n",
        "df_hits.to_csv('.data/hits_cut.csv', index=False)\n",
        "#hits_cut is also zipped for faster upload/download to working cloud storages"
      ]
    },
    {
      "cell_type": "code",
      "execution_count": null,
      "metadata": {
        "cellId": "rtkmd4142u2z4rya35w5r",
        "id": "w_LG3nK46LOS"
      },
      "outputs": [],
      "source": [
        "zip_file2 = './data/hits_cut.zip'\n",
        "z2 = zipfile.ZipFile(zip_file2, 'r')\n",
        "z2.extractall()"
      ]
    },
    {
      "cell_type": "code",
      "execution_count": null,
      "metadata": {
        "cellId": "18bfrquukwhkmbea2y1khyk",
        "id": "u4w8O3Ky6LOT"
      },
      "outputs": [],
      "source": [
        "df_hits = pd.read_csv('./hits_cut.csv')\n",
        "df_hits.head()"
      ]
    },
    {
      "cell_type": "code",
      "execution_count": null,
      "metadata": {
        "cellId": "l0avvzeo2m8zn8v2z9p53",
        "id": "-iVCKeBmFegf"
      },
      "outputs": [],
      "source": [
        "df_hits = df_hits.drop_duplicates()"
      ]
    },
    {
      "cell_type": "code",
      "execution_count": null,
      "metadata": {
        "cellId": "eo82iqjrfvsgyqx4sb6s3u",
        "id": "rDmihsSaMYJZ"
      },
      "outputs": [],
      "source": [
        "df_hits['target'] = df_hits['event_action'].apply(lambda x: 1 if x in  ['sub_car_claim_click', 'sub_car_claim_submit_click',\n",
        "'sub_open_dialog_click', 'sub_custom_question_submit_click',\n",
        "'sub_call_number_click', 'sub_callback_submit_click', 'sub_submit_success',\n",
        "'sub_car_request_submit_click'] else 0)"
      ]
    },
    {
      "cell_type": "code",
      "execution_count": null,
      "metadata": {
        "cellId": "n0w6yi088cch298sx6rm1",
        "id": "jFQpJoWvRmjf"
      },
      "outputs": [],
      "source": [
        "df_hits = df_hits.drop_duplicates(subset= ['session_id', 'target'])\n",
        "df_hits.info()"
      ]
    },
    {
      "cell_type": "code",
      "execution_count": null,
      "metadata": {
        "cellId": "7proglw5rbgbrlc5s5w39l",
        "id": "PBfN9e7_SuKB"
      },
      "outputs": [],
      "source": [
        "df_target = df_hits.groupby('session_id').agg({'target':'sum'})\n"
      ]
    },
    {
      "cell_type": "code",
      "execution_count": null,
      "metadata": {
        "cellId": "dom5h2n5eg9fdv2rdw2g1c",
        "id": "xk6JU_5xfWuG"
      },
      "outputs": [],
      "source": [
        "#inner merge with target column before cleaning the data to drop irrelevant rows from the very beginning (less garbage to clean)\n",
        "df_ses = df_ses.merge(df_target, on='session_id', how='inner')\n"
      ]
    },
    {
      "cell_type": "code",
      "execution_count": null,
      "metadata": {
        "cellId": "li8t6t4efeft8y0vpn578",
        "id": "JAldEB8r6LOV"
      },
      "outputs": [],
      "source": [
        "df_ses.to_csv('./sessions_hits_merged.csv', index=False)"
      ]
    }
  ],
  "metadata": {
    "colab": {
      "provenance": []
    },
    "language_info": {
      "codemirror_mode": {
        "name": "ipython",
        "version": 3
      },
      "file_extension": ".py",
      "mimetype": "text/x-python",
      "name": "python",
      "nbconvert_exporter": "python",
      "pygments_lexer": "ipython3",
      "version": "3.7.7"
    },
    "notebookId": "8aca4c77-a5af-4079-b035-fb645c259e7f",
    "notebookPath": "RawDatasetPreparation.ipynb"
  },
  "nbformat": 4,
  "nbformat_minor": 0
}