{
  "cells": [
    {
      "cell_type": "code",
      "execution_count": null,
      "id": "de6ffe37",
      "metadata": {
        "cellId": "zkeijakgwqd24s9xo2jzj",
        "id": "de6ffe37",
        "outputId": "0abbc9a7-72f6-4995-910b-071e1a9fe7f2"
      },
      "outputs": [
        {
          "name": "stdout",
          "output_type": "stream",
          "text": [
            "Defaulting to user installation because normal site-packages is not writeable\r\n",
            "Requirement already satisfied: pandas in /usr/local/lib/python3.8/dist-packages (0.25.3)\r\n",
            "Collecting pandas\r\n",
            "  Downloading pandas-2.0.3-cp38-cp38-manylinux_2_17_x86_64.manylinux2014_x86_64.whl (12.4 MB)\r\n",
            "\r",
            "     |████████████████████████████████| 12.4 MB 2.1 MB/s            \r\n",
            "\u001b[?25hCollecting tzdata>=2022.1\r\n",
            "  Downloading tzdata-2023.3-py2.py3-none-any.whl (341 kB)\r\n",
            "\r",
            "     |████████████████████████████████| 341 kB 94.5 MB/s            \r\n",
            "\u001b[?25hRequirement already satisfied: pytz>=2020.1 in /usr/local/lib/python3.8/dist-packages (from pandas) (2021.3)\r\n",
            "Requirement already satisfied: python-dateutil>=2.8.2 in /kernel/lib/python3.8/site-packages (from pandas) (2.8.2)\r\n",
            "Requirement already satisfied: numpy>=1.20.3 in /home/jupyter/.local/lib/python3.8/site-packages (from pandas) (1.24.4)\r\n",
            "Requirement already satisfied: six>=1.5 in /kernel/lib/python3.8/site-packages (from python-dateutil>=2.8.2->pandas) (1.16.0)\r\n",
            "Installing collected packages: tzdata, pandas\r\n",
            "Successfully installed pandas-2.0.3 tzdata-2023.3\r\n",
            "\u001b[33mWARNING: You are using pip version 21.3.1; however, version 23.2.1 is available.\r\n",
            "You should consider upgrading via the '/usr/local/bin/python3 -m pip install --upgrade pip' command.\u001b[0m\r\n"
          ]
        }
      ],
      "source": [
        "%pip install --upgrade pandas"
      ]
    },
    {
      "cell_type": "code",
      "execution_count": null,
      "id": "1c0f7a3b",
      "metadata": {
        "cellId": "en1z3tk2gvtrijil849di",
        "id": "1c0f7a3b"
      },
      "outputs": [],
      "source": [
        "from sklearn.ensemble import RandomForestClassifier\n",
        "from sklearn.linear_model import LogisticRegression\n",
        "from sklearn.metrics import confusion_matrix\n",
        "from sklearn.model_selection import train_test_split\n",
        "from sklearn.neural_network import MLPClassifier\n",
        "from sklearn.metrics import roc_curve\n",
        "from sklearn.metrics import roc_auc_score\n",
        "import zipfile\n",
        "import pandas as pd\n",
        "from sklearn.ensemble import IsolationForest\n",
        "from sklearn.ensemble import GradientBoostingClassifier\n",
        "from xgboost import XGBClassifier\n",
        "from sklearn.metrics import ConfusionMatrixDisplay\n",
        "import matplotlib.pyplot as plt"
      ]
    },
    {
      "cell_type": "code",
      "execution_count": null,
      "id": "270d503b",
      "metadata": {
        "cellId": "pccsjuw9fjl4cvwv0eczf8",
        "id": "270d503b"
      },
      "outputs": [],
      "source": [
        " #see Pipeline.ipynb - csvs for convenience so as not to go through the pipeline each time and debug the pipeline and models separately\n",
        "train = pd.read_csv('./new_train_with_iso.csv')\n",
        "test = pd.read_csv('./new_test_with_iso.csv')\n"
      ]
    },
    {
      "cell_type": "code",
      "execution_count": null,
      "id": "98032613",
      "metadata": {
        "cellId": "wqsm557mzc8ks70ue4a00j",
        "id": "98032613",
        "outputId": "cbac35de-160e-4029-a2f5-362150623259"
      },
      "outputs": [
        {
          "data": {
            "text/plain": [
              "((1385812, 54), (346454, 54), (1385812,), (346454,))"
            ]
          },
          "execution_count": 199,
          "metadata": {},
          "output_type": "execute_result"
        }
      ],
      "source": [
        "x_train = train.drop('target', axis=1)\n",
        "y_train = train['target']\n",
        "x_test = test.drop('target', axis=1)\n",
        "y_test = test['target']\n",
        "x_train.shape, x_test.shape, y_train.shape, y_test.shape"
      ]
    },
    {
      "cell_type": "markdown",
      "id": "7332b652",
      "metadata": {
        "cellId": "tmhpsq7bwaewpn22yr6ud",
        "execution_id": "c9b036ea-ab22-4fbf-a66d-4ecf54dbe3ac",
        "id": "7332b652"
      },
      "source": [
        "\n",
        "## Base Models"
      ]
    },
    {
      "cell_type": "code",
      "execution_count": null,
      "id": "842023e1",
      "metadata": {
        "cellId": "wchpawqi3g7w9f5v1gz9a",
        "id": "842023e1"
      },
      "outputs": [],
      "source": [
        "#try some basic algorithms with default paramteters"
      ]
    },
    {
      "cell_type": "code",
      "execution_count": null,
      "id": "50880972",
      "metadata": {
        "cellId": "82b3slsinun1ezuef7k0mc",
        "id": "50880972",
        "outputId": "09c3cb79-dcb5-4338-ada4-cd2d865eef5e"
      },
      "outputs": [
        {
          "data": {
            "text/html": [
              "<style>#sk-container-id-1 {color: black;}#sk-container-id-1 pre{padding: 0;}#sk-container-id-1 div.sk-toggleable {background-color: white;}#sk-container-id-1 label.sk-toggleable__label {cursor: pointer;display: block;width: 100%;margin-bottom: 0;padding: 0.3em;box-sizing: border-box;text-align: center;}#sk-container-id-1 label.sk-toggleable__label-arrow:before {content: \"▸\";float: left;margin-right: 0.25em;color: #696969;}#sk-container-id-1 label.sk-toggleable__label-arrow:hover:before {color: black;}#sk-container-id-1 div.sk-estimator:hover label.sk-toggleable__label-arrow:before {color: black;}#sk-container-id-1 div.sk-toggleable__content {max-height: 0;max-width: 0;overflow: hidden;text-align: left;background-color: #f0f8ff;}#sk-container-id-1 div.sk-toggleable__content pre {margin: 0.2em;color: black;border-radius: 0.25em;background-color: #f0f8ff;}#sk-container-id-1 input.sk-toggleable__control:checked~div.sk-toggleable__content {max-height: 200px;max-width: 100%;overflow: auto;}#sk-container-id-1 input.sk-toggleable__control:checked~label.sk-toggleable__label-arrow:before {content: \"▾\";}#sk-container-id-1 div.sk-estimator input.sk-toggleable__control:checked~label.sk-toggleable__label {background-color: #d4ebff;}#sk-container-id-1 div.sk-label input.sk-toggleable__control:checked~label.sk-toggleable__label {background-color: #d4ebff;}#sk-container-id-1 input.sk-hidden--visually {border: 0;clip: rect(1px 1px 1px 1px);clip: rect(1px, 1px, 1px, 1px);height: 1px;margin: -1px;overflow: hidden;padding: 0;position: absolute;width: 1px;}#sk-container-id-1 div.sk-estimator {font-family: monospace;background-color: #f0f8ff;border: 1px dotted black;border-radius: 0.25em;box-sizing: border-box;margin-bottom: 0.5em;}#sk-container-id-1 div.sk-estimator:hover {background-color: #d4ebff;}#sk-container-id-1 div.sk-parallel-item::after {content: \"\";width: 100%;border-bottom: 1px solid gray;flex-grow: 1;}#sk-container-id-1 div.sk-label:hover label.sk-toggleable__label {background-color: #d4ebff;}#sk-container-id-1 div.sk-serial::before {content: \"\";position: absolute;border-left: 1px solid gray;box-sizing: border-box;top: 0;bottom: 0;left: 50%;z-index: 0;}#sk-container-id-1 div.sk-serial {display: flex;flex-direction: column;align-items: center;background-color: white;padding-right: 0.2em;padding-left: 0.2em;position: relative;}#sk-container-id-1 div.sk-item {position: relative;z-index: 1;}#sk-container-id-1 div.sk-parallel {display: flex;align-items: stretch;justify-content: center;background-color: white;position: relative;}#sk-container-id-1 div.sk-item::before, #sk-container-id-1 div.sk-parallel-item::before {content: \"\";position: absolute;border-left: 1px solid gray;box-sizing: border-box;top: 0;bottom: 0;left: 50%;z-index: -1;}#sk-container-id-1 div.sk-parallel-item {display: flex;flex-direction: column;z-index: 1;position: relative;background-color: white;}#sk-container-id-1 div.sk-parallel-item:first-child::after {align-self: flex-end;width: 50%;}#sk-container-id-1 div.sk-parallel-item:last-child::after {align-self: flex-start;width: 50%;}#sk-container-id-1 div.sk-parallel-item:only-child::after {width: 0;}#sk-container-id-1 div.sk-dashed-wrapped {border: 1px dashed gray;margin: 0 0.4em 0.5em 0.4em;box-sizing: border-box;padding-bottom: 0.4em;background-color: white;}#sk-container-id-1 div.sk-label label {font-family: monospace;font-weight: bold;display: inline-block;line-height: 1.2em;}#sk-container-id-1 div.sk-label-container {text-align: center;}#sk-container-id-1 div.sk-container {/* jupyter's `normalize.less` sets `[hidden] { display: none; }` but bootstrap.min.css set `[hidden] { display: none !important; }` so we also need the `!important` here to be able to override the default hidden behavior on the sphinx rendered scikit-learn.org. See: https://github.com/scikit-learn/scikit-learn/issues/21755 */display: inline-block !important;position: relative;}#sk-container-id-1 div.sk-text-repr-fallback {display: none;}</style><div id=\"sk-container-id-1\" class=\"sk-top-container\"><div class=\"sk-text-repr-fallback\"><pre>RandomForestClassifier(n_jobs=-1)</pre><b>In a Jupyter environment, please rerun this cell to show the HTML representation or trust the notebook. <br />On GitHub, the HTML representation is unable to render, please try loading this page with nbviewer.org.</b></div><div class=\"sk-container\" hidden><div class=\"sk-item\"><div class=\"sk-estimator sk-toggleable\"><input class=\"sk-toggleable__control sk-hidden--visually\" id=\"sk-estimator-id-1\" type=\"checkbox\" checked><label for=\"sk-estimator-id-1\" class=\"sk-toggleable__label sk-toggleable__label-arrow\">RandomForestClassifier</label><div class=\"sk-toggleable__content\"><pre>RandomForestClassifier(n_jobs=-1)</pre></div></div></div></div></div>"
            ],
            "text/plain": [
              "RandomForestClassifier(n_jobs=-1)"
            ]
          },
          "execution_count": 180,
          "metadata": {},
          "output_type": "execute_result"
        }
      ],
      "source": [
        "rf=RandomForestClassifier(n_jobs=-1)\n",
        "rf.fit(x_train, y_train)"
      ]
    },
    {
      "cell_type": "code",
      "execution_count": null,
      "id": "cfada788",
      "metadata": {
        "cellId": "hmmvbyxclfe0x9xfu59ehpd",
        "id": "cfada788",
        "outputId": "32183d34-c38b-40b2-ef9c-9fdf165c294b"
      },
      "outputs": [
        {
          "name": "stdout",
          "output_type": "stream",
          "text": [
            "RF ROC AUC=0.620\n"
          ]
        }
      ],
      "source": [
        "rf_probs = rf.predict_proba(x_test)\n",
        "\n",
        "rf_probs = rf_probs[:, 1]\n",
        "\n",
        "rf_auc = roc_auc_score(y_test, rf_probs)\n",
        "print('RF ROC AUC=%.3f' % (rf_auc))"
      ]
    },
    {
      "cell_type": "code",
      "execution_count": null,
      "id": "f79b9c6a",
      "metadata": {
        "cellId": "ccv30spc16q9m7su3s6u2h",
        "id": "f79b9c6a",
        "outputId": "e4a8d841-798f-4979-a021-d396efe2a83c"
      },
      "outputs": [
        {
          "name": "stdout",
          "output_type": "stream",
          "text": [
            "RF train ROC AUC=0.997\n"
          ]
        }
      ],
      "source": [
        "rf_probs = rf.predict_proba(x_train)\n",
        "\n",
        "rf_probs = rf_probs[:, 1]\n",
        "# рассчитываем ROC AUC-\n",
        "rf_auc = roc_auc_score(y_train, rf_probs)\n",
        "print('RF train ROC AUC=%.3f' % (rf_auc))"
      ]
    },
    {
      "cell_type": "code",
      "execution_count": null,
      "id": "ce5a6859",
      "metadata": {
        "cellId": "8rzzp7mglsertnv8iftojd",
        "id": "ce5a6859"
      },
      "outputs": [],
      "source": [
        "grad = GradientBoostingClassifier().fit(x_train, y_train)"
      ]
    },
    {
      "cell_type": "code",
      "execution_count": null,
      "id": "21eb9f5c",
      "metadata": {
        "cellId": "9ociqmcnkwrcuxz2gxase6",
        "id": "21eb9f5c",
        "outputId": "e49cef39-de2a-4e13-9e31-90dbb378ea61"
      },
      "outputs": [
        {
          "name": "stdout",
          "output_type": "stream",
          "text": [
            "LR ROC AUC=0.666\n",
            "train LR ROC AUC=0.672\n"
          ]
        }
      ],
      "source": [
        "probs = grad.predict_proba(x_test)\n",
        "probs = probs[:, 1]\n",
        "# рассчитываем ROC AUC\n",
        "clf_auc = roc_auc_score(y_test, probs)\n",
        "print('test ROC AUC=%.3f' % (clf_auc))\n",
        "\n",
        "probs = grad.predict_proba(x_train)\n",
        "probs = probs[:, 1]\n",
        "# рассчитываем ROC AUC\n",
        "clf_auc = roc_auc_score(y_train, probs)\n",
        "print('train ROC AUC=%.3f' % (clf_auc))"
      ]
    },
    {
      "cell_type": "code",
      "execution_count": null,
      "id": "735b75e2",
      "metadata": {
        "cellId": "t4uwmqwzs7iv5shh25854",
        "id": "735b75e2"
      },
      "outputs": [],
      "source": [
        "from sklearn.neural_network import MLPClassifier\n",
        "mlp=MLPClassifier().fit(x_train, y_train)\n"
      ]
    },
    {
      "cell_type": "code",
      "execution_count": null,
      "id": "d4e9b14d",
      "metadata": {
        "cellId": "xe0gfz2lnzjx4pdhwjmxe",
        "id": "d4e9b14d",
        "outputId": "24341086-b6cc-4f3f-ef22-dd35dd977094"
      },
      "outputs": [
        {
          "name": "stdout",
          "output_type": "stream",
          "text": [
            "test ROC AUC=0.665\n",
            "train ROC AUC=0.681\n"
          ]
        }
      ],
      "source": [
        "mlp_probs = mlp.predict_proba(x_test)\n",
        "mlp_probs = mlp_probs[:, 1]\n",
        "# рассчитываем ROC AUC\n",
        "mlp_auc = roc_auc_score(y_test, mlp_probs)\n",
        "print('test ROC AUC=%.3f' % (mlp_auc))\n",
        "\n",
        "probs = mlp.predict_proba(x_train)\n",
        "probs = probs[:, 1]\n",
        "# рассчитываем ROC AUC\n",
        "clf_auc = roc_auc_score(y_train, probs)\n",
        "print('train ROC AUC=%.3f' % (clf_auc))"
      ]
    },
    {
      "cell_type": "code",
      "execution_count": null,
      "id": "ef83e1d1",
      "metadata": {
        "cellId": "5doso5jvdox94o7gb84bda",
        "id": "ef83e1d1"
      },
      "outputs": [],
      "source": [
        "from sklearn.tree import DecisionTreeClassifier\n",
        "tree_clf=DecisionTreeClassifier().fit(x_train, y_train)"
      ]
    },
    {
      "cell_type": "code",
      "execution_count": null,
      "id": "9f792726",
      "metadata": {
        "cellId": "tbsuzma2zloidpp4ij31k",
        "id": "9f792726",
        "outputId": "7605569f-339e-40d5-a5ab-77e747174e1b"
      },
      "outputs": [
        {
          "name": "stdout",
          "output_type": "stream",
          "text": [
            "test ROC AUC=0.516\n",
            "train ROC AUC=0.998\n"
          ]
        }
      ],
      "source": [
        "probs = tree_clf.predict_proba(x_test)\n",
        "probs = probs[:, 1]\n",
        "# рассчитываем ROC AUC\n",
        "_auc = roc_auc_score(y_test,probs)\n",
        "print('test ROC AUC=%.3f' % (_auc))\n",
        "\n",
        "probs = tree_clf.predict_proba(x_train)\n",
        "probs = probs[:, 1]\n",
        "# рассчитываем ROC AUC\n",
        "_auc = roc_auc_score(y_train, probs)\n",
        "print('train ROC AUC=%.3f' % (_auc))"
      ]
    },
    {
      "cell_type": "code",
      "execution_count": null,
      "id": "dd0bb414",
      "metadata": {
        "cellId": "jye4r9bht2aiktal9mnsq",
        "id": "dd0bb414"
      },
      "outputs": [],
      "source": [
        "tree_clf=DecisionTreeClassifier().fit(x_resampled, y_resampled)"
      ]
    },
    {
      "cell_type": "code",
      "execution_count": null,
      "id": "3b419828",
      "metadata": {
        "cellId": "z4b2t2mb9w1nk0tui1ns7",
        "id": "3b419828",
        "outputId": "c0eb6d33-f5ab-4f3e-d8b6-af534167f37d"
      },
      "outputs": [
        {
          "name": "stdout",
          "output_type": "stream",
          "text": [
            "test ROC AUC=0.555\n",
            "train ROC AUC=1.000\n"
          ]
        }
      ],
      "source": [
        "probs = tree_clf.predict_proba(x_test)\n",
        "probs = probs[:, 1]\n",
        "# рассчитываем ROC AUC\n",
        "_auc = roc_auc_score(y_test,probs)\n",
        "print('test ROC AUC=%.3f' % (_auc))\n",
        "\n",
        "probs = tree_clf.predict_proba(x_resampled)\n",
        "probs = probs[:, 1]\n",
        "# рассчитываем ROC AUC\n",
        "_auc = roc_auc_score(y_resampled, probs)\n",
        "print('train ROC AUC=%.3f' % (_auc))"
      ]
    },
    {
      "cell_type": "code",
      "execution_count": null,
      "id": "ab1a4a31",
      "metadata": {
        "cellId": "bpn0xn5fz5wvc6n9xplbvj",
        "id": "ab1a4a31"
      },
      "outputs": [],
      "source": [
        "isf = IsolationForest()\n",
        "x_train_norm = train[train['target']==0].drop('target', axis=1)\n",
        "isf = IsolationForest().fit(x_train_norm)\n",
        "\n",
        "\n"
      ]
    },
    {
      "cell_type": "code",
      "execution_count": null,
      "id": "cb9bd945",
      "metadata": {
        "cellId": "anllga0wv1pmcp9tkgo9km",
        "id": "cb9bd945",
        "outputId": "a633a92f-a2eb-499a-8904-a8933559f06c"
      },
      "outputs": [
        {
          "data": {
            "text/plain": [
              "(1345561, 54)"
            ]
          },
          "execution_count": 283,
          "metadata": {},
          "output_type": "execute_result"
        }
      ],
      "source": [
        "x_train_norm.shape"
      ]
    },
    {
      "cell_type": "code",
      "execution_count": null,
      "id": "d900f69e",
      "metadata": {
        "cellId": "nonrnu9nwvknaoxcmxuyuk",
        "id": "d900f69e"
      },
      "outputs": [],
      "source": [
        "isf_test = isf.predict(x_test)"
      ]
    },
    {
      "cell_type": "code",
      "execution_count": null,
      "id": "681c0f8f",
      "metadata": {
        "cellId": "irzhry5nqu9q659l1u4pjf",
        "id": "681c0f8f"
      },
      "outputs": [],
      "source": [
        "isf_test\n",
        "iso_y_test = y_test.replace(1, -1).replace(0, 1)"
      ]
    },
    {
      "cell_type": "code",
      "execution_count": null,
      "id": "e6157ab0",
      "metadata": {
        "cellId": "fmpi5sa5tzslvlcj29agh",
        "id": "e6157ab0",
        "outputId": "0df5d5a5-6c41-4729-9164-7a10c2789788"
      },
      "outputs": [
        {
          "data": {
            "text/plain": [
              "target\n",
              " 1    336391\n",
              "-1     10063\n",
              "Name: count, dtype: int64"
            ]
          },
          "execution_count": 266,
          "metadata": {},
          "output_type": "execute_result"
        }
      ],
      "source": [
        "iso_y_test.value_counts()"
      ]
    },
    {
      "cell_type": "code",
      "execution_count": null,
      "id": "1d1cca4e",
      "metadata": {
        "cellId": "nci9hr4aynk8ylf07ri5mn",
        "id": "1d1cca4e",
        "outputId": "280cd5ca-6da6-4d83-fc38-2ad65155c5b9"
      },
      "outputs": [
        {
          "data": {
            "text/plain": [
              "target\n",
              "0    336391\n",
              "1     10063\n",
              "Name: count, dtype: int64"
            ]
          },
          "execution_count": 279,
          "metadata": {},
          "output_type": "execute_result"
        }
      ],
      "source": [
        "y_test.value_counts()"
      ]
    },
    {
      "cell_type": "code",
      "execution_count": null,
      "id": "67dd606e",
      "metadata": {
        "cellId": "y83dgg4ja1d3fa0dhw2u7j",
        "id": "67dd606e"
      },
      "outputs": [],
      "source": [
        "cm = confusion_matrix(iso_y_test, isf_test, normalize=None)"
      ]
    },
    {
      "cell_type": "code",
      "execution_count": null,
      "id": "f2846a1e",
      "metadata": {
        "cellId": "5dopv98xw4fu61ywlwxzgs",
        "id": "f2846a1e",
        "outputId": "bf14917d-9ddf-4be1-c564-e6a7d41e6eef"
      },
      "outputs": [
        {
          "data": {
            "image/png": "[encoded data removed]",
            "text/plain": [
              "<Figure size 432x288 with 2 Axes>"
            ]
          },
          "metadata": {
            "needs_background": "light"
          },
          "output_type": "display_data"
        }
      ],
      "source": [
        "vis = ConfusionMatrixDisplay(confusion_matrix=cm)\n",
        "vis.plot()\n",
        "plt.show()"
      ]
    },
    {
      "cell_type": "code",
      "execution_count": null,
      "id": "8f0f7a21",
      "metadata": {
        "cellId": "6laqd4eh1drxemagolqri",
        "id": "8f0f7a21"
      },
      "outputs": [],
      "source": [
        "from xgboost import XGBClassifier\n",
        "model = XGBClassifier().fit(x_train, y_train)"
      ]
    },
    {
      "cell_type": "code",
      "execution_count": null,
      "id": "78fb8a32",
      "metadata": {
        "cellId": "3dwvpx2vll98dqtozm2nu3",
        "id": "78fb8a32",
        "outputId": "57a3502f-2ce3-4b12-c780-3e9e2ad607f2"
      },
      "outputs": [
        {
          "name": "stdout",
          "output_type": "stream",
          "text": [
            "test ROC AUC=0.664\n",
            "train ROC AUC=0.668\n"
          ]
        }
      ],
      "source": [
        "probs = model.predict_proba(x_test)\n",
        "probs = probs[:, 1]\n",
        "# рассчитываем ROC AUC\n",
        "auc = roc_auc_score(y_test, probs)\n",
        "print('test ROC AUC=%.3f' % (auc))\n",
        "\n",
        "probs = model.predict_proba(x_train)\n",
        "probs = probs[:, 1]\n",
        "# рассчитываем ROC AUC\n",
        "clf_auc = roc_auc_score(y_train, probs)\n",
        "print('train ROC AUC=%.3f' % (clf_auc))"
      ]
    },
    {
      "cell_type": "code",
      "execution_count": null,
      "id": "5ad6ccd3",
      "metadata": {
        "cellId": "a3ff0r3fxmy1iou2dxno9",
        "id": "5ad6ccd3",
        "outputId": "ceebda59-2731-4b19-ebb1-8291d5aed1d1"
      },
      "outputs": [
        {
          "data": {
            "text/plain": [
              "{'base_score': 0.5,\n",
              " 'booster': 'gbtree',\n",
              " 'colsample_bylevel': 1,\n",
              " 'colsample_bynode': 1,\n",
              " 'colsample_bytree': 1,\n",
              " 'gamma': 0,\n",
              " 'learning_rate': 0.1,\n",
              " 'max_delta_step': 0,\n",
              " 'max_depth': 3,\n",
              " 'min_child_weight': 1,\n",
              " 'missing': None,\n",
              " 'n_estimators': 100,\n",
              " 'n_jobs': 1,\n",
              " 'nthread': None,\n",
              " 'objective': 'binary:logistic',\n",
              " 'random_state': 0,\n",
              " 'reg_alpha': 0,\n",
              " 'reg_lambda': 1,\n",
              " 'scale_pos_weight': 1,\n",
              " 'seed': None,\n",
              " 'silent': None,\n",
              " 'subsample': 1,\n",
              " 'verbosity': 1}"
            ]
          },
          "execution_count": 206,
          "metadata": {},
          "output_type": "execute_result"
        }
      ],
      "source": [
        "model.get_params()"
      ]
    },
    {
      "cell_type": "code",
      "execution_count": null,
      "id": "bc6948a7",
      "metadata": {
        "cellId": "lbd2tfdh2zgsfwi1enth",
        "id": "bc6948a7",
        "outputId": "ecd9a68b-8036-44e9-d3c6-e5030f0a54bb"
      },
      "outputs": [
        {
          "data": {
            "image/png": "[encoded data removed]",
            "text/plain": [
              "<Figure size 432x288 with 2 Axes>"
            ]
          },
          "metadata": {
            "needs_background": "light"
          },
          "output_type": "display_data"
        }
      ],
      "source": [
        "conf_matrix = confusion_matrix(y_true=y_test, y_pred=model.predict(x_test), normalize=None)\n",
        "vis = ConfusionMatrixDisplay(confusion_matrix=conf_matrix, display_labels=model.classes_)\n",
        "vis.plot()\n",
        "plt.show()"
      ]
    },
    {
      "cell_type": "markdown",
      "id": "1eb1c979",
      "metadata": {
        "cellId": "smr6thtjfxmyybifh8sqrp",
        "execution_id": "8c07b4b1-13ee-4db4-b83d-b369bec62cbc",
        "id": "1eb1c979"
      },
      "source": [
        "## Try tuning"
      ]
    },
    {
      "cell_type": "code",
      "execution_count": null,
      "id": "fddc9407",
      "metadata": {
        "cellId": "0lgsu69urp8bhnvswhzwoes",
        "id": "fddc9407",
        "outputId": "8d99f71f-ca8b-4f28-f696-075f4c96b076"
      },
      "outputs": [
        {
          "name": "stdout",
          "output_type": "stream",
          "text": [
            "      Iter       Train Loss   Remaining Time \n",
            "         1           0.2616           16.18m\n",
            "         2           0.2606           15.83m\n",
            "         3           0.2598           15.81m\n",
            "         4           0.2591           15.74m\n",
            "         5           0.2586           15.73m\n",
            "         6           0.2581           15.73m\n",
            "         7           0.2577           15.65m\n",
            "         8           0.2573           15.58m\n",
            "         9           0.2570           15.45m\n",
            "        10           0.2567           15.32m\n",
            "        20           0.2549           14.59m\n",
            "        30           0.2540           13.82m\n",
            "        40           0.2534           13.02m\n",
            "        50           0.2529           12.20m\n",
            "        60           0.2526           11.40m\n",
            "        70           0.2523           10.60m\n",
            "        80           0.2520            9.80m\n",
            "        90           0.2518            8.99m\n",
            "       100           0.2516            8.18m\n",
            "       200           0.2503            0.00s\n"
          ]
        }
      ],
      "source": [
        "grad = GradientBoostingClassifier(n_estimators=200, verbose=1).fit(x_train, y_train)"
      ]
    },
    {
      "cell_type": "code",
      "execution_count": null,
      "id": "63f467b3",
      "metadata": {
        "cellId": "c8w3db7icpgcl9vk7xk1p8",
        "id": "63f467b3",
        "outputId": "2ee5c1b6-ccd5-4f9b-97f7-10cf25ce955a"
      },
      "outputs": [
        {
          "name": "stdout",
          "output_type": "stream",
          "text": [
            "test ROC AUC=0.670\n",
            "train ROC AUC=0.679\n"
          ]
        }
      ],
      "source": [
        "probs = grad.predict_proba(x_test)\n",
        "probs = probs[:, 1]\n",
        "# рассчитываем ROC AUC\n",
        "clf_auc = roc_auc_score(y_test, probs)\n",
        "print('test ROC AUC=%.3f' % (clf_auc))\n",
        "\n",
        "probs = grad.predict_proba(x_train)\n",
        "probs = probs[:, 1]\n",
        "# рассчитываем ROC AUC\n",
        "clf_auc = roc_auc_score(y_train, probs)\n",
        "print('train ROC AUC=%.3f' % (clf_auc))"
      ]
    },
    {
      "cell_type": "code",
      "execution_count": null,
      "id": "7318c858",
      "metadata": {
        "cellId": "cqpqt867xulfcd83c4293s",
        "id": "7318c858",
        "outputId": "743a56b1-3e09-49f1-9dba-e43ea007190e"
      },
      "outputs": [
        {
          "data": {
            "image/png": "[encoded data removed]",
            "text/plain": [
              "<Figure size 432x288 with 2 Axes>"
            ]
          },
          "metadata": {
            "needs_background": "light"
          },
          "output_type": "display_data"
        }
      ],
      "source": [
        "conf_matrix = confusion_matrix(y_true=y_test, y_pred=grad.predict(x_test), normalize=None)\n",
        "vis = ConfusionMatrixDisplay(confusion_matrix=conf_matrix, display_labels=grad.classes_)\n",
        "vis.plot()\n",
        "plt.show()"
      ]
    },
    {
      "cell_type": "code",
      "execution_count": null,
      "id": "404cb294",
      "metadata": {
        "cellId": "6ok18luvc7x8fvto71vem",
        "id": "404cb294",
        "outputId": "bbfe90c4-b328-4c90-f4bc-b7d7464a5c4f"
      },
      "outputs": [
        {
          "data": {
            "image/png": "[encoded data removed]",
            "text/plain": [
              "<Figure size 432x288 with 1 Axes>"
            ]
          },
          "metadata": {
            "needs_background": "light"
          },
          "output_type": "display_data"
        }
      ],
      "source": [
        "fpr, tpr, _ =  roc_curve(y_test,  grad.predict_proba(x_test)[:, 1])\n",
        "plt.plot (fpr,tpr)\n",
        "plt.ylabel('True Positive Rate')\n",
        "plt.xlabel('False Positive Rate')\n",
        "plt.show()"
      ]
    },
    {
      "cell_type": "code",
      "execution_count": null,
      "id": "e80c5cdd",
      "metadata": {
        "cellId": "w4zp2lmubdbfsgs1v72xw",
        "id": "e80c5cdd",
        "outputId": "fb8f38df-87cc-48da-e426-aec8daaa8f0e"
      },
      "outputs": [
        {
          "data": {
            "text/plain": [
              "array([[336387,      4],\n",
              "       [ 10062,      1]])"
            ]
          },
          "execution_count": 222,
          "metadata": {},
          "output_type": "execute_result"
        }
      ],
      "source": [
        "confusion_matrix(y_true=y_test, y_pred=grad.predict(x_test))"
      ]
    },
    {
      "cell_type": "code",
      "execution_count": null,
      "id": "f226f1fa",
      "metadata": {
        "cellId": "hua5ofz74gry7m1sd2fr3h",
        "id": "f226f1fa"
      },
      "outputs": [],
      "source": [
        "model = XGBClassifier(n_iterators=200).fit(x_train, y_train)"
      ]
    },
    {
      "cell_type": "code",
      "execution_count": null,
      "id": "c6fa5590",
      "metadata": {
        "cellId": "5az3onup4t7tpz4f1z4jxq",
        "id": "c6fa5590",
        "outputId": "109dad16-bfed-4653-f2fd-91e066349d4e"
      },
      "outputs": [
        {
          "name": "stdout",
          "output_type": "stream",
          "text": [
            "test ROC AUC=0.664\n",
            "train ROC AUC=0.668\n"
          ]
        }
      ],
      "source": [
        "probs = model.predict_proba(x_test) z\n",
        "probs = probs[:, 1]\n",
        "# рассчитываем ROC AUC\n",
        "auc = roc_auc_score(y_test, probs)\n",
        "print('test ROC AUC=%.3f' % (auc))\n",
        "\n",
        "probs = model.predict_proba(x_train)\n",
        "probs = probs[:, 1]\n",
        "# рассчитываем ROC AUC\n",
        "clf_auc = roc_auc_score(y_train, probs)\n",
        "print('train ROC AUC=%.3f' % (clf_auc))"
      ]
    },
    {
      "cell_type": "code",
      "execution_count": null,
      "id": "f245cf5a",
      "metadata": {
        "cellId": "grkr6weso2eftnqw7p81bj",
        "id": "f245cf5a"
      },
      "outputs": [],
      "source": [
        "mlp=MLPClassifier(hidden_layer_sizes=(100, 50)).fit(x_train, y_train)\n"
      ]
    },
    {
      "cell_type": "code",
      "execution_count": null,
      "id": "4ed07d61",
      "metadata": {
        "cellId": "egh59kyy6zwzbrvmav9ywe",
        "id": "4ed07d61",
        "outputId": "2eebae08-14ed-4d7c-bb5d-9b6b39a2b158"
      },
      "outputs": [
        {
          "name": "stdout",
          "output_type": "stream",
          "text": [
            "test ROC AUC=0.668\n",
            "train ROC AUC=0.689\n"
          ]
        }
      ],
      "source": [
        "mlp_probs = mlp.predict_proba(x_test)\n",
        "mlp_probs = mlp_probs[:, 1]\n",
        "# рассчитываем ROC AUC\n",
        "mlp_auc = roc_auc_score(y_test, mlp_probs)\n",
        "print('test ROC AUC=%.3f' % (mlp_auc))\n",
        "\n",
        "probs = mlp.predict_proba(x_train)\n",
        "probs = probs[:, 1]\n",
        "# рассчитываем ROC AUC\n",
        "clf_auc = roc_auc_score(y_train, probs)\n",
        "print('train ROC AUC=%.3f' % (clf_auc))"
      ]
    },
    {
      "cell_type": "code",
      "execution_count": null,
      "id": "92540eff",
      "metadata": {
        "cellId": "vgogixs30j8ncj67i5ekj",
        "id": "92540eff",
        "outputId": "4cfb672a-b767-40be-82e7-1e26844ec6aa"
      },
      "outputs": [
        {
          "data": {
            "image/png": "[encoded data removed]",
            "text/plain": [
              "<Figure size 432x288 with 2 Axes>"
            ]
          },
          "metadata": {
            "needs_background": "light"
          },
          "output_type": "display_data"
        }
      ],
      "source": [
        "conf_matrix = confusion_matrix(y_true=y_test, y_pred=mlp.predict(x_test), normalize=None)\n",
        "vis = ConfusionMatrixDisplay(confusion_matrix=conf_matrix, display_labels=mlp.classes_)\n",
        "vis.plot()\n",
        "plt.show()"
      ]
    },
    {
      "cell_type": "code",
      "execution_count": null,
      "id": "42365423",
      "metadata": {
        "cellId": "mxc7wlrcyds559r8l62en5",
        "id": "42365423",
        "outputId": "8b70a1de-4a01-4990-9849-329a8c6a6b96"
      },
      "outputs": [
        {
          "data": {
            "image/png": "[encoded data removed]",
            "text/plain": [
              "<Figure size 432x288 with 1 Axes>"
            ]
          },
          "metadata": {
            "needs_background": "light"
          },
          "output_type": "display_data"
        }
      ],
      "source": [
        "fpr, tpr, _ =  roc_curve(y_test,  mlp.predict_proba(x_test)[:, 1])\n",
        "plt.plot (fpr,tpr)\n",
        "plt.ylabel('True Positive Rate')\n",
        "plt.xlabel('False Positive Rate')\n",
        "plt.show()"
      ]
    },
    {
      "cell_type": "markdown",
      "id": "8ff46eea",
      "metadata": {
        "cellId": "osufk9xo48r2kgrwaq5qyo",
        "execution_id": "9b1fcb1a-7866-4ec0-a493-0381dc2fb99f",
        "id": "8ff46eea"
      },
      "source": [
        "#\n",
        "## Try on resampled"
      ]
    },
    {
      "cell_type": "code",
      "execution_count": null,
      "id": "3b46d742",
      "metadata": {
        "cellId": "bhedqm5jokqzz1b6yql2fp",
        "id": "3b46d742"
      },
      "outputs": [],
      "source": [
        "from imblearn.under_sampling import RandomUnderSampler\n",
        "rus = RandomUnderSampler()\n",
        "x_resampled, y_resampled = rus.fit_resample(x_train, y_train)"
      ]
    },
    {
      "cell_type": "code",
      "execution_count": null,
      "id": "4a7d8891",
      "metadata": {
        "cellId": "jwfjcw6csve9v002ph2dmk",
        "id": "4a7d8891"
      },
      "outputs": [],
      "source": [
        "grad = GradientBoostingClassifier(n_estimators=200).fit(x_resampled, y_resampled)"
      ]
    },
    {
      "cell_type": "code",
      "execution_count": null,
      "id": "8540497f",
      "metadata": {
        "cellId": "omkmd57cf5ncotlvq3k4uo",
        "id": "8540497f",
        "outputId": "daa9a0ff-fcd0-41f6-f299-bdc7ba61803c"
      },
      "outputs": [
        {
          "name": "stdout",
          "output_type": "stream",
          "text": [
            "test ROC AUC=0.669\n",
            "train ROC AUC=0.687\n"
          ]
        }
      ],
      "source": [
        "probs = grad.predict_proba(x_test)\n",
        "probs = probs[:, 1]\n",
        "# рассчитываем ROC AUC\n",
        "clf_auc = roc_auc_score(y_test, probs)\n",
        "print('test ROC AUC=%.3f' % (clf_auc))\n",
        "\n",
        "probs = grad.predict_proba(x_resampled)\n",
        "probs = probs[:, 1]\n",
        "# рассчитываем ROC AUC\n",
        "clf_auc = roc_auc_score(y_resampled, probs)\n",
        "print('train ROC AUC=%.3f' % (clf_auc))"
      ]
    },
    {
      "cell_type": "code",
      "execution_count": null,
      "id": "427f3b83",
      "metadata": {
        "cellId": "3zmv50apmtvmvibnoxha9b",
        "id": "427f3b83",
        "outputId": "f47dc862-613e-4b54-f765-cfead063cebb"
      },
      "outputs": [
        {
          "data": {
            "image/png": "[encoded data removed]",
            "text/plain": [
              "<Figure size 432x288 with 2 Axes>"
            ]
          },
          "metadata": {
            "needs_background": "light"
          },
          "output_type": "display_data"
        }
      ],
      "source": [
        "conf_matrix = confusion_matrix(y_true=y_test, y_pred=grad.predict(x_test), normalize=None)\n",
        "vis = ConfusionMatrixDisplay(confusion_matrix=conf_matrix, display_labels=grad.classes_)\n",
        "vis.plot()\n",
        "plt.show()"
      ]
    },
    {
      "cell_type": "code",
      "execution_count": null,
      "id": "07632202",
      "metadata": {
        "cellId": "frsymnj337d10ejc0cgr4ei",
        "id": "07632202",
        "outputId": "49696421-b618-44d2-98e0-f01cb2b93fd1"
      },
      "outputs": [
        {
          "data": {
            "image/png": "[encoded data removed]",
            "text/plain": [
              "<Figure size 432x288 with 1 Axes>"
            ]
          },
          "metadata": {
            "needs_background": "light"
          },
          "output_type": "display_data"
        }
      ],
      "source": [
        "fpr, tpr, _ =  roc_curve(y_test,  grad.predict_proba(x_test)[:, 1])\n",
        "plt.plot (fpr,tpr)\n",
        "plt.ylabel('True Positive Rate')\n",
        "plt.xlabel('False Positive Rate')\n",
        "plt.show()"
      ]
    },
    {
      "cell_type": "code",
      "execution_count": null,
      "id": "fccb391f",
      "metadata": {
        "cellId": "gylm23qgogu8ytptxlaqpf",
        "id": "fccb391f",
        "outputId": "2d760570-7db5-4513-99fe-ea8d13b12dc7"
      },
      "outputs": [
        {
          "name": "stdout",
          "output_type": "stream",
          "text": [
            "Iteration 1, loss = 0.66735893\n",
            "Iteration 2, loss = 0.65613149\n",
            "Iteration 3, loss = 0.65114561\n",
            "Iteration 4, loss = 0.64798270\n",
            "Iteration 5, loss = 0.64524802\n",
            "Iteration 6, loss = 0.64332809\n",
            "Iteration 7, loss = 0.64114317\n",
            "Iteration 8, loss = 0.63963158\n",
            "Iteration 9, loss = 0.63832565\n",
            "Iteration 10, loss = 0.63665591\n",
            "Iteration 11, loss = 0.63542448\n",
            "Iteration 12, loss = 0.63369413\n",
            "Iteration 13, loss = 0.63222013\n",
            "Iteration 14, loss = 0.63103980\n",
            "Iteration 15, loss = 0.63023728\n",
            "Iteration 16, loss = 0.62893368\n",
            "Iteration 17, loss = 0.62736046\n",
            "Iteration 18, loss = 0.62685824\n",
            "Iteration 19, loss = 0.62591543\n",
            "Iteration 20, loss = 0.62454359\n",
            "Iteration 21, loss = 0.62335505\n",
            "Iteration 22, loss = 0.62239804\n",
            "Iteration 23, loss = 0.62100313\n",
            "Iteration 24, loss = 0.62068503\n",
            "Iteration 25, loss = 0.61921804\n",
            "Iteration 26, loss = 0.61860764\n",
            "Iteration 27, loss = 0.61781374\n",
            "Iteration 28, loss = 0.61701593\n",
            "Iteration 29, loss = 0.61579257\n",
            "Iteration 30, loss = 0.61497531\n",
            "Iteration 31, loss = 0.61461641\n",
            "Iteration 32, loss = 0.61383179\n",
            "Iteration 33, loss = 0.61277588\n",
            "Iteration 34, loss = 0.61160008\n",
            "Iteration 35, loss = 0.61100481\n",
            "Iteration 36, loss = 0.61027866\n",
            "Iteration 37, loss = 0.60952874\n",
            "Iteration 38, loss = 0.60798885\n",
            "Iteration 39, loss = 0.60820838\n",
            "Iteration 40, loss = 0.60731503\n",
            "Iteration 41, loss = 0.60621229\n",
            "Iteration 42, loss = 0.60576912\n",
            "Iteration 43, loss = 0.60462126\n",
            "Iteration 44, loss = 0.60381069\n",
            "Iteration 45, loss = 0.60334785\n",
            "Iteration 46, loss = 0.60290744\n",
            "Iteration 47, loss = 0.60224581\n",
            "Iteration 48, loss = 0.60090428\n",
            "Iteration 49, loss = 0.60065968\n",
            "Iteration 50, loss = 0.60013987\n",
            "Iteration 51, loss = 0.59938153\n",
            "Iteration 52, loss = 0.59850985\n",
            "Iteration 53, loss = 0.59828356\n",
            "Iteration 54, loss = 0.59815963\n",
            "Iteration 55, loss = 0.59676194\n",
            "Iteration 56, loss = 0.59624727\n",
            "Iteration 57, loss = 0.59539655\n",
            "Iteration 58, loss = 0.59570439\n",
            "Iteration 59, loss = 0.59454186\n",
            "Iteration 60, loss = 0.59390473\n",
            "Iteration 61, loss = 0.59371078\n",
            "Iteration 62, loss = 0.59281372\n",
            "Iteration 63, loss = 0.59233712\n",
            "Iteration 64, loss = 0.59221081\n",
            "Iteration 65, loss = 0.59079402\n",
            "Iteration 66, loss = 0.59102044\n",
            "Iteration 67, loss = 0.59024722\n",
            "Iteration 68, loss = 0.59008973\n",
            "Iteration 69, loss = 0.58996445\n",
            "Iteration 70, loss = 0.58884352\n",
            "Iteration 71, loss = 0.58876361\n",
            "Iteration 72, loss = 0.58794224\n",
            "Iteration 73, loss = 0.58732347\n",
            "Iteration 74, loss = 0.58700815\n",
            "Iteration 75, loss = 0.58639528\n",
            "Iteration 76, loss = 0.58574919\n",
            "Iteration 77, loss = 0.58550677\n",
            "Iteration 78, loss = 0.58483181\n",
            "Iteration 79, loss = 0.58494272\n",
            "Iteration 80, loss = 0.58447839\n",
            "Iteration 81, loss = 0.58414011\n",
            "Iteration 82, loss = 0.58335807\n",
            "Iteration 83, loss = 0.58371981\n",
            "Iteration 84, loss = 0.58310409\n",
            "Iteration 85, loss = 0.58207594\n",
            "Iteration 86, loss = 0.58178678\n",
            "Iteration 87, loss = 0.58124436\n",
            "Iteration 88, loss = 0.58175970\n",
            "Iteration 89, loss = 0.58051739\n",
            "Iteration 90, loss = 0.58040246\n",
            "Iteration 91, loss = 0.57993163\n",
            "Iteration 92, loss = 0.57950455\n",
            "Iteration 93, loss = 0.57955208\n",
            "Iteration 94, loss = 0.57922745\n",
            "Iteration 95, loss = 0.57897724\n",
            "Iteration 96, loss = 0.57855180\n",
            "Iteration 97, loss = 0.57775834\n",
            "Iteration 98, loss = 0.57737121\n",
            "Iteration 99, loss = 0.57776132\n",
            "Iteration 100, loss = 0.57684666\n",
            "Iteration 101, loss = 0.57714730\n",
            "Iteration 102, loss = 0.57603071\n",
            "Iteration 103, loss = 0.57576406\n",
            "Iteration 104, loss = 0.57633687\n",
            "Iteration 105, loss = 0.57565656\n",
            "Iteration 106, loss = 0.57532137\n",
            "Iteration 107, loss = 0.57477787\n",
            "Iteration 108, loss = 0.57486706\n",
            "Iteration 109, loss = 0.57364818\n",
            "Iteration 110, loss = 0.57472043\n",
            "Iteration 111, loss = 0.57314014\n",
            "Iteration 112, loss = 0.57279218\n",
            "Iteration 113, loss = 0.57264836\n",
            "Iteration 114, loss = 0.57325187\n",
            "Iteration 115, loss = 0.57273132\n",
            "Iteration 116, loss = 0.57224043\n",
            "Iteration 117, loss = 0.57237994\n",
            "Iteration 118, loss = 0.57218558\n",
            "Iteration 119, loss = 0.57140144\n",
            "Iteration 120, loss = 0.57123630\n",
            "Iteration 121, loss = 0.57101026\n",
            "Iteration 122, loss = 0.57125799\n",
            "Iteration 123, loss = 0.57060201\n",
            "Iteration 124, loss = 0.57031790\n",
            "Iteration 125, loss = 0.56941325\n",
            "Iteration 126, loss = 0.56891871\n",
            "Iteration 127, loss = 0.56987096\n",
            "Iteration 128, loss = 0.56904691\n",
            "Iteration 129, loss = 0.56900650\n",
            "Iteration 130, loss = 0.56873212\n",
            "Iteration 131, loss = 0.56818811\n",
            "Iteration 132, loss = 0.56808172\n",
            "Iteration 133, loss = 0.56755195\n",
            "Iteration 134, loss = 0.56708226\n",
            "Iteration 135, loss = 0.56703956\n",
            "Iteration 136, loss = 0.56748830\n",
            "Iteration 137, loss = 0.56738549\n",
            "Iteration 138, loss = 0.56643469\n",
            "Iteration 139, loss = 0.56613813\n",
            "Iteration 140, loss = 0.56645814\n",
            "Iteration 141, loss = 0.56604700\n",
            "Iteration 142, loss = 0.56595122\n",
            "Iteration 143, loss = 0.56628699\n",
            "Iteration 144, loss = 0.56510968\n",
            "Iteration 145, loss = 0.56506039\n",
            "Iteration 146, loss = 0.56466062\n",
            "Iteration 147, loss = 0.56431238\n",
            "Iteration 148, loss = 0.56431883\n",
            "Iteration 149, loss = 0.56442177\n",
            "Iteration 150, loss = 0.56353852\n",
            "Iteration 151, loss = 0.56357016\n",
            "Iteration 152, loss = 0.56348631\n",
            "Iteration 153, loss = 0.56355037\n",
            "Iteration 154, loss = 0.56333664\n",
            "Iteration 155, loss = 0.56379053\n",
            "Iteration 156, loss = 0.56238787\n",
            "Iteration 157, loss = 0.56185802\n",
            "Iteration 158, loss = 0.56264031\n",
            "Iteration 159, loss = 0.56256227\n",
            "Iteration 160, loss = 0.56175308\n",
            "Iteration 161, loss = 0.56202558\n",
            "Iteration 162, loss = 0.56167469\n",
            "Iteration 163, loss = 0.56151787\n",
            "Iteration 164, loss = 0.56027261\n",
            "Iteration 165, loss = 0.56135920\n",
            "Iteration 166, loss = 0.56056399\n",
            "Iteration 167, loss = 0.56025288\n",
            "Iteration 168, loss = 0.56069224\n",
            "Iteration 169, loss = 0.56055727\n",
            "Iteration 170, loss = 0.55964644\n",
            "Iteration 171, loss = 0.55996721\n",
            "Iteration 172, loss = 0.55886831\n",
            "Iteration 173, loss = 0.55992281\n",
            "Iteration 174, loss = 0.55883693\n",
            "Iteration 175, loss = 0.55888423\n",
            "Iteration 176, loss = 0.55905235\n",
            "Iteration 177, loss = 0.55861645\n",
            "Iteration 178, loss = 0.55896805\n",
            "Iteration 179, loss = 0.55860360\n",
            "Iteration 180, loss = 0.55802773\n",
            "Iteration 181, loss = 0.55761496\n",
            "Iteration 182, loss = 0.55806257\n",
            "Iteration 183, loss = 0.55766291\n",
            "Iteration 184, loss = 0.55674464\n",
            "Iteration 185, loss = 0.55783975\n",
            "Iteration 186, loss = 0.55811276\n",
            "Iteration 187, loss = 0.55662348\n",
            "Iteration 188, loss = 0.55704433\n",
            "Iteration 189, loss = 0.55678645\n",
            "Iteration 190, loss = 0.55751225\n",
            "Iteration 191, loss = 0.55641038\n",
            "Iteration 192, loss = 0.55633579\n",
            "Iteration 193, loss = 0.55639288\n",
            "Iteration 194, loss = 0.55545591\n",
            "Iteration 195, loss = 0.55579124\n",
            "Iteration 196, loss = 0.55592258\n",
            "Iteration 197, loss = 0.55658926\n",
            "Iteration 198, loss = 0.55595218\n",
            "Iteration 199, loss = 0.55531988\n",
            "Iteration 200, loss = 0.55511617\n",
            "Iteration 201, loss = 0.55540082\n",
            "Iteration 202, loss = 0.55554692\n",
            "Iteration 203, loss = 0.55512545\n",
            "Iteration 204, loss = 0.55462251\n",
            "Iteration 205, loss = 0.55476999\n",
            "Iteration 206, loss = 0.55519399\n",
            "Iteration 207, loss = 0.55379858\n",
            "Iteration 208, loss = 0.55371680\n",
            "Iteration 209, loss = 0.55376978\n",
            "Iteration 210, loss = 0.55355739\n",
            "Iteration 211, loss = 0.55335850\n",
            "Iteration 212, loss = 0.55387590\n",
            "Iteration 213, loss = 0.55398203\n",
            "Iteration 214, loss = 0.55306052\n",
            "Iteration 215, loss = 0.55269564\n",
            "Iteration 216, loss = 0.55337794\n",
            "Iteration 217, loss = 0.55321508\n",
            "Iteration 218, loss = 0.55286259\n",
            "Iteration 219, loss = 0.55254143\n",
            "Iteration 220, loss = 0.55233231\n",
            "Iteration 221, loss = 0.55221097\n",
            "Iteration 222, loss = 0.55277465\n",
            "Iteration 223, loss = 0.55275021\n",
            "Iteration 224, loss = 0.55185676\n",
            "Iteration 225, loss = 0.55219980\n",
            "Iteration 226, loss = 0.55151838\n",
            "Iteration 227, loss = 0.55144617\n",
            "Iteration 228, loss = 0.55194494\n",
            "Iteration 229, loss = 0.55251333\n",
            "Iteration 230, loss = 0.55159970\n",
            "Iteration 231, loss = 0.55161084\n",
            "Iteration 232, loss = 0.55117225\n",
            "Iteration 233, loss = 0.55114125\n",
            "Iteration 234, loss = 0.55071497\n",
            "Iteration 235, loss = 0.55111405\n",
            "Iteration 236, loss = 0.55102696\n",
            "Iteration 237, loss = 0.55070280\n",
            "Iteration 238, loss = 0.55036011\n",
            "Iteration 239, loss = 0.54968585\n",
            "Iteration 240, loss = 0.54990763\n",
            "Iteration 241, loss = 0.55002541\n",
            "Iteration 242, loss = 0.55010889\n",
            "Iteration 243, loss = 0.54997861\n",
            "Iteration 244, loss = 0.54918959\n",
            "Iteration 245, loss = 0.54939894\n",
            "Iteration 246, loss = 0.54875713\n",
            "Iteration 247, loss = 0.54979033\n",
            "Iteration 248, loss = 0.54945150\n",
            "Iteration 249, loss = 0.54947652\n",
            "Iteration 250, loss = 0.54907661\n",
            "Iteration 251, loss = 0.54916075\n",
            "Iteration 252, loss = 0.54857149\n",
            "Iteration 253, loss = 0.54894470\n",
            "Iteration 254, loss = 0.54840034\n",
            "Iteration 255, loss = 0.54803045\n",
            "Iteration 256, loss = 0.54847747\n",
            "Iteration 257, loss = 0.54765930\n",
            "Iteration 258, loss = 0.54777009\n",
            "Iteration 259, loss = 0.54847921\n",
            "Iteration 260, loss = 0.54782435\n",
            "Iteration 261, loss = 0.54742895\n",
            "Iteration 262, loss = 0.54758058\n",
            "Iteration 263, loss = 0.54739983\n",
            "Iteration 264, loss = 0.54656761\n",
            "Iteration 265, loss = 0.54737357\n",
            "Iteration 266, loss = 0.54780527\n",
            "Iteration 267, loss = 0.54648832\n",
            "Iteration 268, loss = 0.54688827\n",
            "Iteration 269, loss = 0.54693856\n",
            "Iteration 270, loss = 0.54636178\n",
            "Iteration 271, loss = 0.54740387\n",
            "Iteration 272, loss = 0.54645615\n",
            "Iteration 273, loss = 0.54616836\n",
            "Iteration 274, loss = 0.54663316\n",
            "Iteration 275, loss = 0.54606662\n",
            "Iteration 276, loss = 0.54584534\n",
            "Iteration 277, loss = 0.54642191\n",
            "Iteration 278, loss = 0.54592389\n",
            "Iteration 279, loss = 0.54596414\n",
            "Iteration 280, loss = 0.54603193\n",
            "Iteration 281, loss = 0.54591992\n",
            "Iteration 282, loss = 0.54616705\n",
            "Iteration 283, loss = 0.54592004\n",
            "Iteration 284, loss = 0.54536374\n",
            "Iteration 285, loss = 0.54552554\n",
            "Iteration 286, loss = 0.54513134\n",
            "Iteration 287, loss = 0.54559776\n",
            "Iteration 288, loss = 0.54531882\n",
            "Iteration 289, loss = 0.54543073\n",
            "Iteration 290, loss = 0.54476938\n",
            "Iteration 291, loss = 0.54442677\n",
            "Iteration 292, loss = 0.54491704\n",
            "Iteration 293, loss = 0.54429349\n",
            "Iteration 294, loss = 0.54481900\n",
            "Iteration 295, loss = 0.54450071\n",
            "Iteration 296, loss = 0.54539004\n",
            "Iteration 297, loss = 0.54415276\n",
            "Iteration 298, loss = 0.54463537\n",
            "Iteration 299, loss = 0.54393484\n",
            "Iteration 300, loss = 0.54423059\n",
            "Iteration 301, loss = 0.54450893\n",
            "Iteration 302, loss = 0.54397276\n",
            "Iteration 303, loss = 0.54422880\n",
            "Iteration 304, loss = 0.54331552\n",
            "Iteration 305, loss = 0.54357211\n",
            "Iteration 306, loss = 0.54393112\n",
            "Iteration 307, loss = 0.54396133\n",
            "Iteration 308, loss = 0.54357356\n",
            "Iteration 309, loss = 0.54311466\n",
            "Iteration 310, loss = 0.54362151\n",
            "Iteration 311, loss = 0.54242749\n",
            "Iteration 312, loss = 0.54331070\n",
            "Iteration 313, loss = 0.54274767\n",
            "Iteration 314, loss = 0.54300499\n",
            "Iteration 315, loss = 0.54310007\n",
            "Iteration 316, loss = 0.54259115\n",
            "Iteration 317, loss = 0.54283210\n",
            "Iteration 318, loss = 0.54293074\n",
            "Iteration 319, loss = 0.54277743\n",
            "Iteration 320, loss = 0.54226119\n",
            "Iteration 321, loss = 0.54231612\n",
            "Iteration 322, loss = 0.54232814\n",
            "Iteration 323, loss = 0.54162707\n",
            "Iteration 324, loss = 0.54251698\n",
            "Iteration 325, loss = 0.54197042\n",
            "Iteration 326, loss = 0.54215771\n",
            "Iteration 327, loss = 0.54187581\n",
            "Iteration 328, loss = 0.54164955\n",
            "Iteration 329, loss = 0.54135140\n",
            "Iteration 330, loss = 0.54186829\n",
            "Iteration 331, loss = 0.54144048\n",
            "Iteration 332, loss = 0.54098649\n",
            "Iteration 333, loss = 0.54172893\n",
            "Iteration 334, loss = 0.54128786\n",
            "Iteration 335, loss = 0.54108515\n",
            "Iteration 336, loss = 0.54129741\n",
            "Iteration 337, loss = 0.54159755\n",
            "Iteration 338, loss = 0.54123851\n",
            "Iteration 339, loss = 0.54064572\n",
            "Iteration 340, loss = 0.54053718\n",
            "Iteration 341, loss = 0.54079130\n",
            "Iteration 342, loss = 0.54064925\n",
            "Iteration 343, loss = 0.53990024\n",
            "Iteration 344, loss = 0.54026415\n",
            "Iteration 345, loss = 0.54106407\n",
            "Iteration 346, loss = 0.54014437\n",
            "Iteration 347, loss = 0.54023022\n",
            "Iteration 348, loss = 0.54029416\n",
            "Iteration 349, loss = 0.54013763\n",
            "Iteration 350, loss = 0.53954958\n",
            "Iteration 351, loss = 0.53979993\n",
            "Iteration 352, loss = 0.54023990\n",
            "Iteration 353, loss = 0.53980368\n",
            "Iteration 354, loss = 0.53989064\n",
            "Iteration 355, loss = 0.54065029\n",
            "Iteration 356, loss = 0.53980128\n",
            "Iteration 357, loss = 0.53933434\n",
            "Iteration 358, loss = 0.53892264\n",
            "Iteration 359, loss = 0.53899552\n",
            "Iteration 360, loss = 0.53903799\n",
            "Iteration 361, loss = 0.53940952\n",
            "Iteration 362, loss = 0.53912130\n",
            "Iteration 363, loss = 0.53885202\n",
            "Iteration 364, loss = 0.53913719\n",
            "Iteration 365, loss = 0.53851398\n",
            "Iteration 366, loss = 0.53909959\n",
            "Iteration 367, loss = 0.53829906\n",
            "Iteration 368, loss = 0.53944770\n",
            "Iteration 369, loss = 0.53831964\n",
            "Iteration 370, loss = 0.53873133\n",
            "Iteration 371, loss = 0.53884905\n",
            "Iteration 372, loss = 0.53854472\n",
            "Iteration 373, loss = 0.53862613\n",
            "Iteration 374, loss = 0.53859523\n",
            "Iteration 375, loss = 0.53841522\n",
            "Iteration 376, loss = 0.53872622\n",
            "Iteration 377, loss = 0.53783811\n",
            "Iteration 378, loss = 0.53767636\n",
            "Iteration 379, loss = 0.53769364\n",
            "Iteration 380, loss = 0.53832938\n",
            "Iteration 381, loss = 0.53773283\n",
            "Iteration 382, loss = 0.53805543\n",
            "Iteration 383, loss = 0.53804993\n",
            "Iteration 384, loss = 0.53754540\n",
            "Iteration 385, loss = 0.53777666\n",
            "Iteration 386, loss = 0.53797197\n",
            "Iteration 387, loss = 0.53830888\n",
            "Iteration 388, loss = 0.53737658\n",
            "Iteration 389, loss = 0.53692182\n",
            "Iteration 390, loss = 0.53669173\n",
            "Iteration 391, loss = 0.53730402\n",
            "Iteration 392, loss = 0.53741515\n",
            "Iteration 393, loss = 0.53691915\n",
            "Iteration 394, loss = 0.53674305\n",
            "Iteration 395, loss = 0.53753605\n",
            "Iteration 396, loss = 0.53720096\n",
            "Iteration 397, loss = 0.53624262\n",
            "Iteration 398, loss = 0.53676686\n",
            "Iteration 399, loss = 0.53723204\n",
            "Iteration 400, loss = 0.53681901\n",
            "Iteration 401, loss = 0.53684209\n",
            "Iteration 402, loss = 0.53656714\n",
            "Iteration 403, loss = 0.53649709\n",
            "Iteration 404, loss = 0.53710710\n",
            "Iteration 405, loss = 0.53654062\n",
            "Iteration 406, loss = 0.53696562\n",
            "Iteration 407, loss = 0.53645605\n",
            "Iteration 408, loss = 0.53661803\n",
            "Training loss did not improve more than tol=0.000100 for 10 consecutive epochs. Stopping.\n"
          ]
        }
      ],
      "source": [
        "mlp=MLPClassifier(hidden_layer_sizes=(100, 50), max_iter=1000, verbose=1).fit(x_resampled, y_resampled)\n"
      ]
    },
    {
      "cell_type": "code",
      "execution_count": null,
      "id": "13dd80a7",
      "metadata": {
        "cellId": "mgki2tpvmvgnhm22snva",
        "id": "13dd80a7",
        "outputId": "aa8b88db-fa74-47b0-b460-11fe33ad6bf6"
      },
      "outputs": [
        {
          "name": "stdout",
          "output_type": "stream",
          "text": [
            "test ROC AUC=0.668\n",
            "train ROC AUC=0.691\n"
          ]
        }
      ],
      "source": [
        "\n",
        "mlp_probs = mlp.predict_proba(x_test)\n",
        "mlp_probs = mlp_probs[:, 1]\n",
        "# рассчитываем ROC AUC\n",
        "mlp_auc = roc_auc_score(y_test, mlp_probs)\n",
        "print('test ROC AUC=%.3f' % (mlp_auc))\n",
        "\n",
        "probs = mlp.predict_proba(x_resampled)\n",
        "probs = probs[:, 1]\n",
        "# рассчитываем ROC AUC\n",
        "clf_auc = roc_auc_score(y_resampled, probs)\n",
        "print('train ROC AUC=%.3f' % (clf_auc))"
      ]
    },
    {
      "cell_type": "code",
      "execution_count": null,
      "id": "0e070bcc",
      "metadata": {
        "cellId": "yvj3rpyjkmq14gnva21h0b",
        "id": "0e070bcc",
        "outputId": "142d4fad-e61d-4fe6-aabb-1e456b57c85e"
      },
      "outputs": [
        {
          "data": {
            "image/png": "[encoded data removed]",
            "text/plain": [
              "<Figure size 432x288 with 2 Axes>"
            ]
          },
          "metadata": {
            "needs_background": "light"
          },
          "output_type": "display_data"
        }
      ],
      "source": [
        "\n",
        "conf_matrix = confusion_matrix(y_true=y_test, y_pred=mlp.predict(x_test), normalize=None)\n",
        "vis = ConfusionMatrixDisplay(confusion_matrix=conf_matrix, display_labels=mlp.classes_)\n",
        "vis.plot()\n",
        "plt.show()"
      ]
    },
    {
      "cell_type": "code",
      "execution_count": null,
      "id": "37837bd2",
      "metadata": {
        "cellId": "m9xczhu7ztl827qdsx10d",
        "id": "37837bd2",
        "outputId": "42e06005-b953-4360-bd40-fb06cb1ae97e"
      },
      "outputs": [
        {
          "data": {
            "image/png": "[encoded data removed]",
            "text/plain": [
              "<Figure size 432x288 with 1 Axes>"
            ]
          },
          "metadata": {
            "needs_background": "light"
          },
          "output_type": "display_data"
        }
      ],
      "source": [
        "\n",
        "fpr, tpr, _ =  roc_curve(y_test,  mlp.predict_proba(x_test)[:, 1])\n",
        "plt.plot (fpr,tpr)\n",
        "plt.ylabel('True Positive Rate')\n",
        "plt.xlabel('False Positive Rate')\n",
        "plt.show()"
      ]
    },
    {
      "cell_type": "code",
      "execution_count": null,
      "id": "231ba952",
      "metadata": {
        "cellId": "6gk2ehtdgrq4ktxwen5r5t",
        "id": "231ba952"
      },
      "outputs": [],
      "source": [
        "#\n",
        "\n",
        "model = XGBClassifier(n_iterators=200).fit(x_resampled, y_resampled)"
      ]
    },
    {
      "cell_type": "code",
      "execution_count": null,
      "id": "b4e43ef6",
      "metadata": {
        "cellId": "cntmra7x6fj6haww3x8uwc",
        "id": "b4e43ef6",
        "outputId": "4ad3c9dc-0c5a-4272-d8e5-30a8c3a3f272"
      },
      "outputs": [
        {
          "name": "stdout",
          "output_type": "stream",
          "text": [
            "test ROC AUC=0.666\n",
            "train ROC AUC=0.676\n"
          ]
        }
      ],
      "source": [
        "\n",
        "probs = model.predict_proba(x_test)\n",
        "probs = probs[:, 1]\n",
        "# рассчитываем ROC AUC\n",
        "auc = roc_auc_score(y_test, probs)\n",
        "print('test ROC AUC=%.3f' % (auc))\n",
        "\n",
        "probs = model.predict_proba(x_resampled)\n",
        "probs = probs[:, 1]\n",
        "# рассчитываем ROC AUC\n",
        "clf_auc = roc_auc_score(y_resampled, probs)\n",
        "print('train ROC AUC=%.3f' % (clf_auc))"
      ]
    },
    {
      "cell_type": "code",
      "execution_count": null,
      "id": "237b0d1d",
      "metadata": {
        "cellId": "vi86oja94gbl0l8ugk5n7",
        "id": "237b0d1d",
        "outputId": "37e51025-9ed1-4a42-97fb-b7782f9c62e6"
      },
      "outputs": [
        {
          "data": {
            "image/png": "[encoded data removed]",
            "text/plain": [
              "<Figure size 432x288 with 2 Axes>"
            ]
          },
          "metadata": {
            "needs_background": "light"
          },
          "output_type": "display_data"
        }
      ],
      "source": [
        "\n",
        "conf_matrix = confusion_matrix(y_true=y_test, y_pred=model.predict(x_test), normalize=None)\n",
        "vis = ConfusionMatrixDisplay(confusion_matrix=conf_matrix, display_labels=model.classes_)\n",
        "vis.plot()\n",
        "plt.show()"
      ]
    },
    {
      "cell_type": "code",
      "execution_count": null,
      "id": "4976f889",
      "metadata": {
        "cellId": "sntle4rcswndn0uc2f5j",
        "id": "4976f889",
        "outputId": "de4cc5aa-b345-4a20-c600-0c68b700b1f7"
      },
      "outputs": [
        {
          "data": {
            "image/png": "[encoded data removed]",
            "text/plain": [
              "<Figure size 432x288 with 1 Axes>"
            ]
          },
          "metadata": {
            "needs_background": "light"
          },
          "output_type": "display_data"
        }
      ],
      "source": [
        "\n",
        "fpr, tpr, _ =  roc_curve(y_test,  model.predict_proba(x_test)[:, 1])\n",
        "plt.plot (fpr,tpr)\n",
        "plt.ylabel('True Positive Rate')\n",
        "plt.xlabel('False Positive Rate')\n",
        "plt.show()"
      ]
    },
    {
      "cell_type": "markdown",
      "id": "c716df9c",
      "metadata": {
        "cellId": "6k16h0s1g6uyrea0l7cpoj",
        "execution_id": "00d7bf51-92e9-411a-bf57-01b9cf95f809",
        "id": "c716df9c"
      },
      "source": [
        "\n",
        "## Feature Importances"
      ]
    },
    {
      "cell_type": "code",
      "execution_count": null,
      "id": "5250c0e2",
      "metadata": {
        "cellId": "mqrcmxq1kulfvo8h9bpnh",
        "id": "5250c0e2",
        "outputId": "afd9dfcf-ca46-4615-95a7-8cb876eb22ee"
      },
      "outputs": [
        {
          "data": {
            "text/html": [
              "<div>\n",
              "<style scoped>\n",
              "    .dataframe tbody tr th:only-of-type {\n",
              "        vertical-align: middle;\n",
              "    }\n",
              "\n",
              "    .dataframe tbody tr th {\n",
              "        vertical-align: top;\n",
              "    }\n",
              "\n",
              "    .dataframe thead th {\n",
              "        text-align: right;\n",
              "    }\n",
              "</style>\n",
              "<table border=\"1\" class=\"dataframe\">\n",
              "  <thead>\n",
              "    <tr style=\"text-align: right;\">\n",
              "      <th></th>\n",
              "      <th>Features</th>\n",
              "      <th>Importance</th>\n",
              "    </tr>\n",
              "  </thead>\n",
              "  <tbody>\n",
              "    <tr>\n",
              "      <th>0</th>\n",
              "      <td>utm_adcontent_freq</td>\n",
              "      <td>0.147807</td>\n",
              "    </tr>\n",
              "    <tr>\n",
              "      <th>1</th>\n",
              "      <td>utm_adcontent_freqisf</td>\n",
              "      <td>0.135993</td>\n",
              "    </tr>\n",
              "    <tr>\n",
              "      <th>2</th>\n",
              "      <td>utm_source_freq</td>\n",
              "      <td>0.134792</td>\n",
              "    </tr>\n",
              "    <tr>\n",
              "      <th>3</th>\n",
              "      <td>utm_medium_freqisf</td>\n",
              "      <td>0.075386</td>\n",
              "    </tr>\n",
              "    <tr>\n",
              "      <th>4</th>\n",
              "      <td>paid_trafficisf</td>\n",
              "      <td>0.072382</td>\n",
              "    </tr>\n",
              "    <tr>\n",
              "      <th>5</th>\n",
              "      <td>utm_source_freqisf</td>\n",
              "      <td>0.047802</td>\n",
              "    </tr>\n",
              "    <tr>\n",
              "      <th>6</th>\n",
              "      <td>paid_traffic</td>\n",
              "      <td>0.033953</td>\n",
              "    </tr>\n",
              "    <tr>\n",
              "      <th>7</th>\n",
              "      <td>lng</td>\n",
              "      <td>0.024960</td>\n",
              "    </tr>\n",
              "    <tr>\n",
              "      <th>8</th>\n",
              "      <td>top_3_campaigns</td>\n",
              "      <td>0.024272</td>\n",
              "    </tr>\n",
              "    <tr>\n",
              "      <th>9</th>\n",
              "      <td>device_screen_resolutionisf</td>\n",
              "      <td>0.022200</td>\n",
              "    </tr>\n",
              "    <tr>\n",
              "      <th>10</th>\n",
              "      <td>top_3_campaignsisf</td>\n",
              "      <td>0.019908</td>\n",
              "    </tr>\n",
              "    <tr>\n",
              "      <th>11</th>\n",
              "      <td>device_browser_freq</td>\n",
              "      <td>0.019291</td>\n",
              "    </tr>\n",
              "    <tr>\n",
              "      <th>12</th>\n",
              "      <td>visit_day</td>\n",
              "      <td>0.017385</td>\n",
              "    </tr>\n",
              "    <tr>\n",
              "      <th>13</th>\n",
              "      <td>lngisf</td>\n",
              "      <td>0.016596</td>\n",
              "    </tr>\n",
              "    <tr>\n",
              "      <th>14</th>\n",
              "      <td>utm_medium_freq</td>\n",
              "      <td>0.015840</td>\n",
              "    </tr>\n",
              "    <tr>\n",
              "      <th>15</th>\n",
              "      <td>device_screen_resolution_freq</td>\n",
              "      <td>0.015114</td>\n",
              "    </tr>\n",
              "    <tr>\n",
              "      <th>16</th>\n",
              "      <td>visit_hour_freq</td>\n",
              "      <td>0.015015</td>\n",
              "    </tr>\n",
              "    <tr>\n",
              "      <th>17</th>\n",
              "      <td>device_brand_Samsung</td>\n",
              "      <td>0.015000</td>\n",
              "    </tr>\n",
              "    <tr>\n",
              "      <th>18</th>\n",
              "      <td>device_screen_resolution_freqisf</td>\n",
              "      <td>0.014641</td>\n",
              "    </tr>\n",
              "    <tr>\n",
              "      <th>19</th>\n",
              "      <td>device_screen_resolution</td>\n",
              "      <td>0.014098</td>\n",
              "    </tr>\n",
              "    <tr>\n",
              "      <th>20</th>\n",
              "      <td>lat</td>\n",
              "      <td>0.013246</td>\n",
              "    </tr>\n",
              "    <tr>\n",
              "      <th>21</th>\n",
              "      <td>latisf</td>\n",
              "      <td>0.012905</td>\n",
              "    </tr>\n",
              "    <tr>\n",
              "      <th>22</th>\n",
              "      <td>visit_hour</td>\n",
              "      <td>0.011361</td>\n",
              "    </tr>\n",
              "    <tr>\n",
              "      <th>23</th>\n",
              "      <td>device_brand_freq</td>\n",
              "      <td>0.009859</td>\n",
              "    </tr>\n",
              "    <tr>\n",
              "      <th>24</th>\n",
              "      <td>device_browser_Android Webview</td>\n",
              "      <td>0.009832</td>\n",
              "    </tr>\n",
              "    <tr>\n",
              "      <th>25</th>\n",
              "      <td>device_browser_freqisf</td>\n",
              "      <td>0.006695</td>\n",
              "    </tr>\n",
              "    <tr>\n",
              "      <th>26</th>\n",
              "      <td>visit_hour_freqisf</td>\n",
              "      <td>0.006179</td>\n",
              "    </tr>\n",
              "    <tr>\n",
              "      <th>27</th>\n",
              "      <td>geo_city_freqisf</td>\n",
              "      <td>0.005910</td>\n",
              "    </tr>\n",
              "    <tr>\n",
              "      <th>28</th>\n",
              "      <td>geo_city_freq</td>\n",
              "      <td>0.004746</td>\n",
              "    </tr>\n",
              "    <tr>\n",
              "      <th>29</th>\n",
              "      <td>visit_dayofweek</td>\n",
              "      <td>0.004047</td>\n",
              "    </tr>\n",
              "    <tr>\n",
              "      <th>30</th>\n",
              "      <td>visit_day_freq</td>\n",
              "      <td>0.003995</td>\n",
              "    </tr>\n",
              "    <tr>\n",
              "      <th>31</th>\n",
              "      <td>visit_dayisf</td>\n",
              "      <td>0.003758</td>\n",
              "    </tr>\n",
              "    <tr>\n",
              "      <th>32</th>\n",
              "      <td>device_brand_unknown</td>\n",
              "      <td>0.003548</td>\n",
              "    </tr>\n",
              "    <tr>\n",
              "      <th>33</th>\n",
              "      <td>visit_dayofweek_freq</td>\n",
              "      <td>0.003400</td>\n",
              "    </tr>\n",
              "    <tr>\n",
              "      <th>34</th>\n",
              "      <td>device_category_desktop</td>\n",
              "      <td>0.003166</td>\n",
              "    </tr>\n",
              "    <tr>\n",
              "      <th>35</th>\n",
              "      <td>geo_region_freq</td>\n",
              "      <td>0.003021</td>\n",
              "    </tr>\n",
              "    <tr>\n",
              "      <th>36</th>\n",
              "      <td>device_brand_Apple</td>\n",
              "      <td>0.001957</td>\n",
              "    </tr>\n",
              "    <tr>\n",
              "      <th>37</th>\n",
              "      <td>social_netisf</td>\n",
              "      <td>0.001853</td>\n",
              "    </tr>\n",
              "    <tr>\n",
              "      <th>38</th>\n",
              "      <td>device_browser_Safari</td>\n",
              "      <td>0.001779</td>\n",
              "    </tr>\n",
              "    <tr>\n",
              "      <th>39</th>\n",
              "      <td>device_browser_Opera</td>\n",
              "      <td>0.001093</td>\n",
              "    </tr>\n",
              "    <tr>\n",
              "      <th>40</th>\n",
              "      <td>device_browser_Samsung Internet</td>\n",
              "      <td>0.000969</td>\n",
              "    </tr>\n",
              "    <tr>\n",
              "      <th>41</th>\n",
              "      <td>device_brand_Xiaomi</td>\n",
              "      <td>0.000938</td>\n",
              "    </tr>\n",
              "    <tr>\n",
              "      <th>42</th>\n",
              "      <td>device_category_mobile</td>\n",
              "      <td>0.000901</td>\n",
              "    </tr>\n",
              "    <tr>\n",
              "      <th>43</th>\n",
              "      <td>device_brand_Realme</td>\n",
              "      <td>0.000693</td>\n",
              "    </tr>\n",
              "    <tr>\n",
              "      <th>44</th>\n",
              "      <td>device_category_tablet</td>\n",
              "      <td>0.000486</td>\n",
              "    </tr>\n",
              "    <tr>\n",
              "      <th>45</th>\n",
              "      <td>device_browser_Firefox</td>\n",
              "      <td>0.000486</td>\n",
              "    </tr>\n",
              "    <tr>\n",
              "      <th>46</th>\n",
              "      <td>device_browser_Chrome</td>\n",
              "      <td>0.000306</td>\n",
              "    </tr>\n",
              "    <tr>\n",
              "      <th>47</th>\n",
              "      <td>social_net</td>\n",
              "      <td>0.000267</td>\n",
              "    </tr>\n",
              "    <tr>\n",
              "      <th>48</th>\n",
              "      <td>device_browser_YaBrowser</td>\n",
              "      <td>0.000170</td>\n",
              "    </tr>\n",
              "    <tr>\n",
              "      <th>49</th>\n",
              "      <td>device_browser_other</td>\n",
              "      <td>0.000000</td>\n",
              "    </tr>\n",
              "    <tr>\n",
              "      <th>50</th>\n",
              "      <td>device_browser_Edge</td>\n",
              "      <td>0.000000</td>\n",
              "    </tr>\n",
              "    <tr>\n",
              "      <th>51</th>\n",
              "      <td>device_brand_other</td>\n",
              "      <td>0.000000</td>\n",
              "    </tr>\n",
              "    <tr>\n",
              "      <th>52</th>\n",
              "      <td>device_brand_Huawei</td>\n",
              "      <td>0.000000</td>\n",
              "    </tr>\n",
              "    <tr>\n",
              "      <th>53</th>\n",
              "      <td>visit_number</td>\n",
              "      <td>0.000000</td>\n",
              "    </tr>\n",
              "  </tbody>\n",
              "</table>\n",
              "</div>"
            ],
            "text/plain": [
              "                            Features  Importance\n",
              "0                 utm_adcontent_freq    0.147807\n",
              "1              utm_adcontent_freqisf    0.135993\n",
              "2                    utm_source_freq    0.134792\n",
              "3                 utm_medium_freqisf    0.075386\n",
              "4                    paid_trafficisf    0.072382\n",
              "5                 utm_source_freqisf    0.047802\n",
              "6                       paid_traffic    0.033953\n",
              "7                                lng    0.024960\n",
              "8                    top_3_campaigns    0.024272\n",
              "9        device_screen_resolutionisf    0.022200\n",
              "10                top_3_campaignsisf    0.019908\n",
              "11               device_browser_freq    0.019291\n",
              "12                         visit_day    0.017385\n",
              "13                            lngisf    0.016596\n",
              "14                   utm_medium_freq    0.015840\n",
              "15     device_screen_resolution_freq    0.015114\n",
              "16                   visit_hour_freq    0.015015\n",
              "17              device_brand_Samsung    0.015000\n",
              "18  device_screen_resolution_freqisf    0.014641\n",
              "19          device_screen_resolution    0.014098\n",
              "20                               lat    0.013246\n",
              "21                            latisf    0.012905\n",
              "22                        visit_hour    0.011361\n",
              "23                 device_brand_freq    0.009859\n",
              "24    device_browser_Android Webview    0.009832\n",
              "25            device_browser_freqisf    0.006695\n",
              "26                visit_hour_freqisf    0.006179\n",
              "27                  geo_city_freqisf    0.005910\n",
              "28                     geo_city_freq    0.004746\n",
              "29                   visit_dayofweek    0.004047\n",
              "30                    visit_day_freq    0.003995\n",
              "31                      visit_dayisf    0.003758\n",
              "32              device_brand_unknown    0.003548\n",
              "33              visit_dayofweek_freq    0.003400\n",
              "34           device_category_desktop    0.003166\n",
              "35                   geo_region_freq    0.003021\n",
              "36                device_brand_Apple    0.001957\n",
              "37                     social_netisf    0.001853\n",
              "38             device_browser_Safari    0.001779\n",
              "39              device_browser_Opera    0.001093\n",
              "40   device_browser_Samsung Internet    0.000969\n",
              "41               device_brand_Xiaomi    0.000938\n",
              "42            device_category_mobile    0.000901\n",
              "43               device_brand_Realme    0.000693\n",
              "44            device_category_tablet    0.000486\n",
              "45            device_browser_Firefox    0.000486\n",
              "46             device_browser_Chrome    0.000306\n",
              "47                        social_net    0.000267\n",
              "48          device_browser_YaBrowser    0.000170\n",
              "49              device_browser_other    0.000000\n",
              "50               device_browser_Edge    0.000000\n",
              "51                device_brand_other    0.000000\n",
              "52               device_brand_Huawei    0.000000\n",
              "53                      visit_number    0.000000"
            ]
          },
          "execution_count": 255,
          "metadata": {},
          "output_type": "execute_result"
        }
      ],
      "source": [
        "\n",
        "feats = {}\n",
        "for feature, importance in zip(x_train.columns, grad.feature_importances_):\n",
        "    feats[feature] = importance\n",
        "importances = pd.DataFrame.from_dict(feats, orient='index').rename(columns={0: 'Importance'})\n",
        "importances = importances.sort_values(by='Importance', ascending=False)\n",
        "importances = importances.reset_index()\n",
        "importances = importances.rename(columns={'index': 'Features'})\n",
        "importances"
      ]
    },
    {
      "cell_type": "code",
      "execution_count": null,
      "id": "9dd9f2b4",
      "metadata": {
        "cellId": "399pzbwsp1rf2frm3fena5",
        "id": "9dd9f2b4",
        "outputId": "7d2c8e34-c7db-4278-d6d6-76c9369411ae"
      },
      "outputs": [
        {
          "data": {
            "text/plain": [
              "<matplotlib.axes._subplots.AxesSubplot at 0x7f95f268e9a0>"
            ]
          },
          "execution_count": 257,
          "metadata": {},
          "output_type": "execute_result"
        },
        {
          "data": {
            "image/png": "[encoded data removed]",
            "text/plain": [
              "<Figure size 432x288 with 1 Axes>"
            ]
          },
          "metadata": {
            "needs_background": "light"
          },
          "output_type": "display_data"
        }
      ],
      "source": [
        "\n",
        "pd.Series(grad.feature_importances_, index=x_train.columns).nlargest(20).plot(kind='barh')"
      ]
    },
    {
      "cell_type": "code",
      "execution_count": null,
      "id": "6613a2d5",
      "metadata": {
        "cellId": "64pqb9ue59kwegza5uxfk",
        "id": "6613a2d5",
        "outputId": "5d048126-5a4c-4558-f6ed-856ff3eb6fb3"
      },
      "outputs": [
        {
          "data": {
            "text/html": [
              "<style>#sk-container-id-1 {color: black;}#sk-container-id-1 pre{padding: 0;}#sk-container-id-1 div.sk-toggleable {background-color: white;}#sk-container-id-1 label.sk-toggleable__label {cursor: pointer;display: block;width: 100%;margin-bottom: 0;padding: 0.3em;box-sizing: border-box;text-align: center;}#sk-container-id-1 label.sk-toggleable__label-arrow:before {content: \"▸\";float: left;margin-right: 0.25em;color: #696969;}#sk-container-id-1 label.sk-toggleable__label-arrow:hover:before {color: black;}#sk-container-id-1 div.sk-estimator:hover label.sk-toggleable__label-arrow:before {color: black;}#sk-container-id-1 div.sk-toggleable__content {max-height: 0;max-width: 0;overflow: hidden;text-align: left;background-color: #f0f8ff;}#sk-container-id-1 div.sk-toggleable__content pre {margin: 0.2em;color: black;border-radius: 0.25em;background-color: #f0f8ff;}#sk-container-id-1 input.sk-toggleable__control:checked~div.sk-toggleable__content {max-height: 200px;max-width: 100%;overflow: auto;}#sk-container-id-1 input.sk-toggleable__control:checked~label.sk-toggleable__label-arrow:before {content: \"▾\";}#sk-container-id-1 div.sk-estimator input.sk-toggleable__control:checked~label.sk-toggleable__label {background-color: #d4ebff;}#sk-container-id-1 div.sk-label input.sk-toggleable__control:checked~label.sk-toggleable__label {background-color: #d4ebff;}#sk-container-id-1 input.sk-hidden--visually {border: 0;clip: rect(1px 1px 1px 1px);clip: rect(1px, 1px, 1px, 1px);height: 1px;margin: -1px;overflow: hidden;padding: 0;position: absolute;width: 1px;}#sk-container-id-1 div.sk-estimator {font-family: monospace;background-color: #f0f8ff;border: 1px dotted black;border-radius: 0.25em;box-sizing: border-box;margin-bottom: 0.5em;}#sk-container-id-1 div.sk-estimator:hover {background-color: #d4ebff;}#sk-container-id-1 div.sk-parallel-item::after {content: \"\";width: 100%;border-bottom: 1px solid gray;flex-grow: 1;}#sk-container-id-1 div.sk-label:hover label.sk-toggleable__label {background-color: #d4ebff;}#sk-container-id-1 div.sk-serial::before {content: \"\";position: absolute;border-left: 1px solid gray;box-sizing: border-box;top: 0;bottom: 0;left: 50%;z-index: 0;}#sk-container-id-1 div.sk-serial {display: flex;flex-direction: column;align-items: center;background-color: white;padding-right: 0.2em;padding-left: 0.2em;position: relative;}#sk-container-id-1 div.sk-item {position: relative;z-index: 1;}#sk-container-id-1 div.sk-parallel {display: flex;align-items: stretch;justify-content: center;background-color: white;position: relative;}#sk-container-id-1 div.sk-item::before, #sk-container-id-1 div.sk-parallel-item::before {content: \"\";position: absolute;border-left: 1px solid gray;box-sizing: border-box;top: 0;bottom: 0;left: 50%;z-index: -1;}#sk-container-id-1 div.sk-parallel-item {display: flex;flex-direction: column;z-index: 1;position: relative;background-color: white;}#sk-container-id-1 div.sk-parallel-item:first-child::after {align-self: flex-end;width: 50%;}#sk-container-id-1 div.sk-parallel-item:last-child::after {align-self: flex-start;width: 50%;}#sk-container-id-1 div.sk-parallel-item:only-child::after {width: 0;}#sk-container-id-1 div.sk-dashed-wrapped {border: 1px dashed gray;margin: 0 0.4em 0.5em 0.4em;box-sizing: border-box;padding-bottom: 0.4em;background-color: white;}#sk-container-id-1 div.sk-label label {font-family: monospace;font-weight: bold;display: inline-block;line-height: 1.2em;}#sk-container-id-1 div.sk-label-container {text-align: center;}#sk-container-id-1 div.sk-container {/* jupyter's `normalize.less` sets `[hidden] { display: none; }` but bootstrap.min.css set `[hidden] { display: none !important; }` so we also need the `!important` here to be able to override the default hidden behavior on the sphinx rendered scikit-learn.org. See: https://github.com/scikit-learn/scikit-learn/issues/21755 */display: inline-block !important;position: relative;}#sk-container-id-1 div.sk-text-repr-fallback {display: none;}</style><div id=\"sk-container-id-1\" class=\"sk-top-container\"><div class=\"sk-text-repr-fallback\"><pre>GradientBoostingClassifier(n_estimators=200)</pre><b>In a Jupyter environment, please rerun this cell to show the HTML representation or trust the notebook. <br />On GitHub, the HTML representation is unable to render, please try loading this page with nbviewer.org.</b></div><div class=\"sk-container\" hidden><div class=\"sk-item\"><div class=\"sk-estimator sk-toggleable\"><input class=\"sk-toggleable__control sk-hidden--visually\" id=\"sk-estimator-id-1\" type=\"checkbox\" checked><label for=\"sk-estimator-id-1\" class=\"sk-toggleable__label sk-toggleable__label-arrow\">GradientBoostingClassifier</label><div class=\"sk-toggleable__content\"><pre>GradientBoostingClassifier(n_estimators=200)</pre></div></div></div></div></div>"
            ],
            "text/plain": [
              "GradientBoostingClassifier(n_estimators=200)"
            ]
          },
          "execution_count": 265,
          "metadata": {},
          "output_type": "execute_result"
        }
      ],
      "source": [
        "\n",
        "grad"
      ]
    }
  ],
  "metadata": {
    "language_info": {
      "codemirror_mode": {
        "name": "ipython",
        "version": 3
      },
      "file_extension": ".py",
      "mimetype": "text/x-python",
      "name": "python",
      "nbconvert_exporter": "python",
      "pygments_lexer": "ipython3",
      "version": "3.7.7"
    },
    "notebookId": "1d59097e-1313-490d-87c1-af771bf24c66",
    "notebookPath": "ModellingFinal.ipynb",
    "colab": {
      "provenance": []
    }
  },
  "nbformat": 4,
  "nbformat_minor": 5
}